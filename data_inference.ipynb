{
 "cells": [
  {
   "cell_type": "markdown",
   "metadata": {},
   "source": [
    "### **Data Inference**"
   ]
  },
  {
   "cell_type": "markdown",
   "metadata": {},
   "source": [
    "#### **1. Import Library**"
   ]
  },
  {
   "cell_type": "code",
   "execution_count": 1,
   "metadata": {},
   "outputs": [
    {
     "name": "stderr",
     "output_type": "stream",
     "text": [
      "c:\\ProgramData\\Anaconda3\\lib\\site-packages\\pandas\\core\\computation\\expressions.py:21: UserWarning: Pandas requires version '2.8.4' or newer of 'numexpr' (version '2.8.3' currently installed).\n",
      "  from pandas.core.computation.check import NUMEXPR_INSTALLED\n",
      "c:\\ProgramData\\Anaconda3\\lib\\site-packages\\pandas\\core\\arrays\\masked.py:60: UserWarning: Pandas requires version '1.3.6' or newer of 'bottleneck' (version '1.3.5' currently installed).\n",
      "  from pandas.core import (\n"
     ]
    }
   ],
   "source": [
    "import pandas as pd\n",
    "import numpy as np\n",
    "import pickle"
   ]
  },
  {
   "cell_type": "markdown",
   "metadata": {},
   "source": [
    "#### **2. Load model, scaler, and PCA**"
   ]
  },
  {
   "cell_type": "code",
   "execution_count": 2,
   "metadata": {},
   "outputs": [
    {
     "name": "stdout",
     "output_type": "stream",
     "text": [
      "Model dan scaler telah dimuat\n"
     ]
    }
   ],
   "source": [
    "\n",
    "# Memuat Scaler\n",
    "with open('scaler_robust.pkl', 'rb') as file_1:\n",
    "    scaler_robust = pickle.load(file_1)\n",
    "\n",
    "with open('scaler_minmax.pkl', 'rb') as file_2:\n",
    "    scaler_minmax = pickle.load(file_2)\n",
    "\n",
    "# Memuat PCA\n",
    "with open('pca_model.pkl', 'rb') as file_3:\n",
    "    pca = pickle.load(file_3)\n",
    "\n",
    "# Memuat model KMeans\n",
    "with open('kmeans_model.pkl', 'rb') as file_4:\n",
    "    km = pickle.load(file_4)\n",
    "\n",
    "print(\"Model dan scaler telah dimuat\")"
   ]
  },
  {
   "cell_type": "markdown",
   "metadata": {},
   "source": [
    "### **3. Cluster Prediction**"
   ]
  },
  {
   "cell_type": "code",
   "execution_count": 3,
   "metadata": {},
   "outputs": [],
   "source": [
    "# Seed untuk random state agar hasilnya dapat direproduksi\n",
    "np.random.seed(42)\n",
    "\n",
    "# Menentukan jumlah data dummy\n",
    "n_samples = 10"
   ]
  },
  {
   "cell_type": "code",
   "execution_count": 4,
   "metadata": {},
   "outputs": [],
   "source": [
    "# Membuat data dummy secara acak\n",
    "data_dummy = {\n",
    "    'BALANCE': np.random.rand(n_samples) * 5000,\n",
    "    'BALANCE_FREQUENCY': np.random.rand(n_samples),\n",
    "    'PURCHASES': np.random.rand(n_samples) * 2000,\n",
    "    'ONEOFF_PURCHASES': np.random.rand(n_samples) * 1000,\n",
    "    'INSTALLMENTS_PURCHASES': np.random.rand(n_samples) * 1000,\n",
    "    'CASH_ADVANCE': np.random.rand(n_samples) * 1000,\n",
    "    'PURCHASES_FREQUENCY': np.random.rand(n_samples),\n",
    "    'ONEOFF_PURCHASES_FREQUENCY': np.random.rand(n_samples),\n",
    "    'PURCHASES_INSTALLMENTS_FREQUENCY': np.random.rand(n_samples),\n",
    "    'CASH_ADVANCE_FREQUENCY': np.random.rand(n_samples),\n",
    "    'CASH_ADVANCE_TRX': np.random.randint(1, 10, n_samples),\n",
    "    'PURCHASES_TRX': np.random.randint(1, 20, n_samples),\n",
    "    'CREDIT_LIMIT': np.random.rand(n_samples) * 20000,\n",
    "    'PAYMENTS': np.random.rand(n_samples) * 3000,\n",
    "    'MINIMUM_PAYMENTS': np.random.rand(n_samples) * 1000,\n",
    "    'PRC_FULL_PAYMENT': np.random.rand(n_samples)\n",
    "}"
   ]
  },
  {
   "cell_type": "code",
   "execution_count": 5,
   "metadata": {},
   "outputs": [],
   "source": [
    "# Buat DataFrame dari data dummy\n",
    "data_inf = pd.DataFrame(data_dummy)"
   ]
  },
  {
   "cell_type": "code",
   "execution_count": 6,
   "metadata": {},
   "outputs": [
    {
     "name": "stderr",
     "output_type": "stream",
     "text": [
      "c:\\ProgramData\\Anaconda3\\lib\\site-packages\\sklearn\\base.py:493: UserWarning: X does not have valid feature names, but MinMaxScaler was fitted with feature names\n",
      "  warnings.warn(\n"
     ]
    }
   ],
   "source": [
    "# Preprocessing data baru menggunakan scaler yang sudah dilatih\n",
    "data_baru_scaled = scaler_robust.transform(data_inf)\n",
    "data_baru_pca = pca.transform(scaler_minmax.transform(data_baru_scaled))"
   ]
  },
  {
   "cell_type": "code",
   "execution_count": 7,
   "metadata": {},
   "outputs": [],
   "source": [
    "# Melakukan prediksi klaster untuk data baru\n",
    "prediksi_klaster = km.predict(data_baru_pca)"
   ]
  },
  {
   "cell_type": "code",
   "execution_count": 8,
   "metadata": {},
   "outputs": [],
   "source": [
    "# Menambahkan hasil prediksi ke dalam dataframe data baru\n",
    "data_inf['prediction'] = prediksi_klaster"
   ]
  },
  {
   "cell_type": "code",
   "execution_count": 9,
   "metadata": {},
   "outputs": [
    {
     "data": {
      "text/html": [
       "<div>\n",
       "<style scoped>\n",
       "    .dataframe tbody tr th:only-of-type {\n",
       "        vertical-align: middle;\n",
       "    }\n",
       "\n",
       "    .dataframe tbody tr th {\n",
       "        vertical-align: top;\n",
       "    }\n",
       "\n",
       "    .dataframe thead th {\n",
       "        text-align: right;\n",
       "    }\n",
       "</style>\n",
       "<table border=\"1\" class=\"dataframe\">\n",
       "  <thead>\n",
       "    <tr style=\"text-align: right;\">\n",
       "      <th></th>\n",
       "      <th>BALANCE</th>\n",
       "      <th>BALANCE_FREQUENCY</th>\n",
       "      <th>PURCHASES</th>\n",
       "      <th>ONEOFF_PURCHASES</th>\n",
       "      <th>INSTALLMENTS_PURCHASES</th>\n",
       "      <th>CASH_ADVANCE</th>\n",
       "      <th>PURCHASES_FREQUENCY</th>\n",
       "      <th>ONEOFF_PURCHASES_FREQUENCY</th>\n",
       "      <th>PURCHASES_INSTALLMENTS_FREQUENCY</th>\n",
       "      <th>CASH_ADVANCE_FREQUENCY</th>\n",
       "      <th>CASH_ADVANCE_TRX</th>\n",
       "      <th>PURCHASES_TRX</th>\n",
       "      <th>CREDIT_LIMIT</th>\n",
       "      <th>PAYMENTS</th>\n",
       "      <th>MINIMUM_PAYMENTS</th>\n",
       "      <th>PRC_FULL_PAYMENT</th>\n",
       "      <th>prediction</th>\n",
       "    </tr>\n",
       "  </thead>\n",
       "  <tbody>\n",
       "    <tr>\n",
       "      <th>0</th>\n",
       "      <td>1872.700594</td>\n",
       "      <td>0.020584</td>\n",
       "      <td>1223.705789</td>\n",
       "      <td>607.544852</td>\n",
       "      <td>122.038235</td>\n",
       "      <td>969.584628</td>\n",
       "      <td>0.388677</td>\n",
       "      <td>0.772245</td>\n",
       "      <td>0.863103</td>\n",
       "      <td>0.119594</td>\n",
       "      <td>7</td>\n",
       "      <td>2</td>\n",
       "      <td>4558.703251</td>\n",
       "      <td>2828.729112</td>\n",
       "      <td>284.840494</td>\n",
       "      <td>0.985650</td>\n",
       "      <td>2</td>\n",
       "    </tr>\n",
       "    <tr>\n",
       "      <th>1</th>\n",
       "      <td>4753.571532</td>\n",
       "      <td>0.969910</td>\n",
       "      <td>278.987721</td>\n",
       "      <td>170.524124</td>\n",
       "      <td>495.176910</td>\n",
       "      <td>775.132823</td>\n",
       "      <td>0.271349</td>\n",
       "      <td>0.198716</td>\n",
       "      <td>0.623298</td>\n",
       "      <td>0.713245</td>\n",
       "      <td>1</td>\n",
       "      <td>10</td>\n",
       "      <td>8542.155773</td>\n",
       "      <td>969.608796</td>\n",
       "      <td>36.886947</td>\n",
       "      <td>0.242055</td>\n",
       "      <td>1</td>\n",
       "    </tr>\n",
       "    <tr>\n",
       "      <th>2</th>\n",
       "      <td>3659.969709</td>\n",
       "      <td>0.832443</td>\n",
       "      <td>584.289297</td>\n",
       "      <td>65.051593</td>\n",
       "      <td>34.388521</td>\n",
       "      <td>939.498942</td>\n",
       "      <td>0.828738</td>\n",
       "      <td>0.005522</td>\n",
       "      <td>0.330898</td>\n",
       "      <td>0.760785</td>\n",
       "      <td>4</td>\n",
       "      <td>13</td>\n",
       "      <td>16360.295318</td>\n",
       "      <td>1556.371865</td>\n",
       "      <td>609.564334</td>\n",
       "      <td>0.672136</td>\n",
       "      <td>1</td>\n",
       "    </tr>\n",
       "    <tr>\n",
       "      <th>3</th>\n",
       "      <td>2993.292421</td>\n",
       "      <td>0.212339</td>\n",
       "      <td>732.723687</td>\n",
       "      <td>948.885537</td>\n",
       "      <td>909.320402</td>\n",
       "      <td>894.827350</td>\n",
       "      <td>0.356753</td>\n",
       "      <td>0.815461</td>\n",
       "      <td>0.063558</td>\n",
       "      <td>0.561277</td>\n",
       "      <td>4</td>\n",
       "      <td>6</td>\n",
       "      <td>17214.611665</td>\n",
       "      <td>2109.056877</td>\n",
       "      <td>502.679023</td>\n",
       "      <td>0.761620</td>\n",
       "      <td>1</td>\n",
       "    </tr>\n",
       "    <tr>\n",
       "      <th>4</th>\n",
       "      <td>780.093202</td>\n",
       "      <td>0.181825</td>\n",
       "      <td>912.139968</td>\n",
       "      <td>965.632033</td>\n",
       "      <td>258.779982</td>\n",
       "      <td>597.899979</td>\n",
       "      <td>0.280935</td>\n",
       "      <td>0.706857</td>\n",
       "      <td>0.310982</td>\n",
       "      <td>0.770967</td>\n",
       "      <td>5</td>\n",
       "      <td>12</td>\n",
       "      <td>139.042611</td>\n",
       "      <td>1090.888807</td>\n",
       "      <td>51.478751</td>\n",
       "      <td>0.237638</td>\n",
       "      <td>1</td>\n",
       "    </tr>\n",
       "  </tbody>\n",
       "</table>\n",
       "</div>"
      ],
      "text/plain": [
       "       BALANCE  BALANCE_FREQUENCY    PURCHASES  ONEOFF_PURCHASES  \\\n",
       "0  1872.700594           0.020584  1223.705789        607.544852   \n",
       "1  4753.571532           0.969910   278.987721        170.524124   \n",
       "2  3659.969709           0.832443   584.289297         65.051593   \n",
       "3  2993.292421           0.212339   732.723687        948.885537   \n",
       "4   780.093202           0.181825   912.139968        965.632033   \n",
       "\n",
       "   INSTALLMENTS_PURCHASES  CASH_ADVANCE  PURCHASES_FREQUENCY  \\\n",
       "0              122.038235    969.584628             0.388677   \n",
       "1              495.176910    775.132823             0.271349   \n",
       "2               34.388521    939.498942             0.828738   \n",
       "3              909.320402    894.827350             0.356753   \n",
       "4              258.779982    597.899979             0.280935   \n",
       "\n",
       "   ONEOFF_PURCHASES_FREQUENCY  PURCHASES_INSTALLMENTS_FREQUENCY  \\\n",
       "0                    0.772245                          0.863103   \n",
       "1                    0.198716                          0.623298   \n",
       "2                    0.005522                          0.330898   \n",
       "3                    0.815461                          0.063558   \n",
       "4                    0.706857                          0.310982   \n",
       "\n",
       "   CASH_ADVANCE_FREQUENCY  CASH_ADVANCE_TRX  PURCHASES_TRX  CREDIT_LIMIT  \\\n",
       "0                0.119594                 7              2   4558.703251   \n",
       "1                0.713245                 1             10   8542.155773   \n",
       "2                0.760785                 4             13  16360.295318   \n",
       "3                0.561277                 4              6  17214.611665   \n",
       "4                0.770967                 5             12    139.042611   \n",
       "\n",
       "      PAYMENTS  MINIMUM_PAYMENTS  PRC_FULL_PAYMENT  prediction  \n",
       "0  2828.729112        284.840494          0.985650           2  \n",
       "1   969.608796         36.886947          0.242055           1  \n",
       "2  1556.371865        609.564334          0.672136           1  \n",
       "3  2109.056877        502.679023          0.761620           1  \n",
       "4  1090.888807         51.478751          0.237638           1  "
      ]
     },
     "execution_count": 9,
     "metadata": {},
     "output_type": "execute_result"
    }
   ],
   "source": [
    "# Menampilkan hasil prediksi\n",
    "data_inf.head()"
   ]
  },
  {
   "cell_type": "markdown",
   "metadata": {},
   "source": [
    "* Klaster ``2`` tampaknya lebih konsisten dalam melunasi tagihan penuh dengan ``PRC_FULL_PAYMENT`` yang sangat tinggi\n",
    "\n",
    "* Klaster ``1`` memiliki variasi yang lebih besar dalam hal ``balance, purchases, cash advance, dan pembayaran.`` Mereka tidak konsisten dalam melunasi tagihan penuh, yang ditunjukkan oleh variasi besar dalam ``PRC_FULL_PAYMENT``"
   ]
  },
  {
   "cell_type": "code",
   "execution_count": 10,
   "metadata": {},
   "outputs": [
    {
     "data": {
      "text/plain": [
       "prediction\n",
       "1    8\n",
       "2    1\n",
       "0    1\n",
       "Name: count, dtype: int64"
      ]
     },
     "execution_count": 10,
     "metadata": {},
     "output_type": "execute_result"
    }
   ],
   "source": [
    "# Menghitung jumlah kemunculan setiap nilai unik dalam kolom prediction\n",
    "data_inf['prediction'].value_counts()"
   ]
  },
  {
   "cell_type": "markdown",
   "metadata": {},
   "source": [
    "* Klaster ``1`` memiliki mayoritas data poin yaitu ``8``, menunjukkan bahwa ``kebanyakan pelanggan memiliki karakteristik yang bervariasi`` dan mungkin memerlukan pengelolaan keuangan yang lebih baik, karena Klaster ``1`` memiliki balance yang lebih tinggi dibandingkan dengan klaster lain. Balance yang tinggi menunjukkan bahwa pelanggan dalam klaster ini memiliki saldo kredit yang besar yang belum dibayar\n",
    "\n",
    "* Klaster ``2`` dan Klaster ``0`` masing-masing hanya memiliki satu data poin, menunjukkan adanya ``karakteristik yang unik dan berbeda`` dari mayoritas pelanggan "
   ]
  },
  {
   "cell_type": "code",
   "execution_count": 11,
   "metadata": {},
   "outputs": [
    {
     "name": "stdout",
     "output_type": "stream",
     "text": [
      "Hasil prediksi telah disimpan dalam 'inference_result.csv'.\n"
     ]
    }
   ],
   "source": [
    "# Menyimpan hasil prediksi ke dalam file CSV\n",
    "data_inf.to_csv('inference_result.csv', index=False)\n",
    "print(\"Hasil prediksi telah disimpan dalam 'inference_result.csv'.\")"
   ]
  }
 ],
 "metadata": {
  "kernelspec": {
   "display_name": "Python 3.9.13 ('base')",
   "language": "python",
   "name": "python3"
  },
  "language_info": {
   "codemirror_mode": {
    "name": "ipython",
    "version": 3
   },
   "file_extension": ".py",
   "mimetype": "text/x-python",
   "name": "python",
   "nbconvert_exporter": "python",
   "pygments_lexer": "ipython3",
   "version": "3.9.13"
  },
  "orig_nbformat": 4,
  "vscode": {
   "interpreter": {
    "hash": "ad2bdc8ecc057115af97d19610ffacc2b4e99fae6737bb82f5d7fb13d2f2c186"
   }
  }
 },
 "nbformat": 4,
 "nbformat_minor": 2
}
